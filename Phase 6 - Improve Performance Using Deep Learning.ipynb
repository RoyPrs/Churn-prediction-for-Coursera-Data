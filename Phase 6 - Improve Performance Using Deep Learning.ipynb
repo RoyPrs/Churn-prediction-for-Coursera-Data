{
 "cells": [
  {
   "cell_type": "markdown",
   "id": "caa45299-ed20-492b-bab0-3e0eb19aac7f",
   "metadata": {},
   "source": [
    "# Phase 6 - Improve Performance Using Deep Learning\n"
   ]
  },
  {
   "cell_type": "code",
   "execution_count": 1,
   "id": "baf3a3a5-25b7-4c72-85e3-e13f7596d554",
   "metadata": {},
   "outputs": [],
   "source": [
    "import pickle\n",
    "import pandas as pd\n",
    "import numpy as np\n",
    "import tensorflow as tf\n",
    "from tensorflow import keras\n",
    "from sklearn.model_selection import train_test_split\n",
    "import matplotlib.pyplot as plt"
   ]
  },
  {
   "cell_type": "code",
   "execution_count": 2,
   "id": "70875c4c-d247-4fdf-bc5d-87593f2572e4",
   "metadata": {},
   "outputs": [
    {
     "data": {
      "text/plain": [
       "(413953, 45)"
      ]
     },
     "execution_count": 2,
     "metadata": {},
     "output_type": "execute_result"
    }
   ],
   "source": [
    "# Open pickled model\n",
    "with open('Data//prepared data.pickle', 'rb') as file:\n",
    "    df = pickle.load(file)\n",
    "df.shape"
   ]
  },
  {
   "cell_type": "code",
   "execution_count": 3,
   "id": "eb9d2383-b121-4e60-90d3-014743b2fe76",
   "metadata": {},
   "outputs": [
    {
     "data": {
      "text/plain": [
       "(413953, 46)"
      ]
     },
     "execution_count": 3,
     "metadata": {},
     "output_type": "execute_result"
    }
   ],
   "source": [
    "df['is_churned'] = 1 - df['is_retained']\n",
    "df.shape"
   ]
  },
  {
   "cell_type": "code",
   "execution_count": 23,
   "id": "b7617647-8189-434f-add1-2dd0a6195ebd",
   "metadata": {},
   "outputs": [
    {
     "data": {
      "text/plain": [
       "(10000, 46)"
      ]
     },
     "execution_count": 23,
     "metadata": {},
     "output_type": "execute_result"
    }
   ],
   "source": [
    "n = 10000\n",
    "df1 = df.sample(n, ignore_index=True)\n",
    "df1.shape"
   ]
  },
  {
   "cell_type": "markdown",
   "id": "abcaf08e-3740-46fe-bd36-da209c629fb2",
   "metadata": {},
   "source": [
    "## Hnadle Outliers"
   ]
  },
  {
   "cell_type": "code",
   "execution_count": 24,
   "id": "e47aa44e-094b-4995-9a02-a027a17b4e9a",
   "metadata": {},
   "outputs": [],
   "source": [
    "# Utility function to find and cap the outliers\n",
    "\n",
    "def cap_outlier(df, col):\n",
    "    q1 = df[col].quantile(0.25)\n",
    "    q3 = df[col].quantile(0.75)\n",
    "    IQR = q3 - q1\n",
    "    lower_limit = q1 - 1.5 * IQR\n",
    "    upper_limit = q3 + 1.5 * IQR\n",
    "\n",
    "    column = np.where(df[col] > upper_limit, upper_limit, \n",
    "                       np.where(df[col] < lower_limit, lower_limit, df[col]))\n",
    "    return column\n"
   ]
  },
  {
   "cell_type": "code",
   "execution_count": 25,
   "id": "75af33c6-da99-4f26-aa55-bfb16ebd9e60",
   "metadata": {},
   "outputs": [],
   "source": [
    "# df1 = df.copy()\n",
    "for col in df1.columns:\n",
    "    if df1[col].dtype in [\"int64\",\"float64\"]:\n",
    "        df1[col] = cap_outlier(df1, col)\n",
    "\n",
    "# df1.describe()"
   ]
  },
  {
   "cell_type": "code",
   "execution_count": 26,
   "id": "79a411c6-83c1-4fac-92fc-d9f6721f2b65",
   "metadata": {},
   "outputs": [],
   "source": [
    "for col in df1.columns:\n",
    "    df1[col] = df1[col].astype('float64')\n",
    "\n",
    "# df1.dtypes"
   ]
  },
  {
   "cell_type": "markdown",
   "id": "304a1f59-89d7-4903-80e2-5ab46442403f",
   "metadata": {},
   "source": [
    "## Split Data"
   ]
  },
  {
   "cell_type": "code",
   "execution_count": 27,
   "id": "6efb78a2-1977-4c47-ae61-79296d2b328f",
   "metadata": {},
   "outputs": [],
   "source": [
    "X = df1.drop(columns=['is_retained', 'is_churned'])\n",
    "y = df1['is_churned']\n",
    "\n",
    "# Split into test and 'other'\n",
    "X_train, X_test, y_train, y_test = train_test_split(X, y, stratify=y, test_size=0.2, random_state=42)\n",
    "\n",
    "# Split into train and validate sets\n",
    "# X_train, X_val, y_train, y_val = train_test_split(X_, y_, stratify=y_, test_size=0.25, random_state=42)\n",
    "                                                  "
   ]
  },
  {
   "cell_type": "markdown",
   "id": "687f08a1-1f08-4e57-b1e6-16d98ce1d083",
   "metadata": {},
   "source": [
    "## Normalize Data"
   ]
  },
  {
   "cell_type": "code",
   "execution_count": 28,
   "id": "11099043-a225-4822-b228-1f7518489fd2",
   "metadata": {},
   "outputs": [],
   "source": [
    "# minimum = np.min(X_train, axis=0)\n",
    "# maximum = np.max(X_train, axis=0)\n",
    "\n",
    "# X_train = (X_train - minimum) / (maximum - minimum)\n",
    "# X_test = (X_test - minimum) / (maximum - minimum)\n",
    "# X_val -= mean\n",
    "\n",
    "# std = np.std(X_train, axis=0)\n",
    "# X_train /= std\n",
    "# X_test /= std\n",
    "# X_val -= std"
   ]
  },
  {
   "cell_type": "code",
   "execution_count": 29,
   "id": "e11caf59-9a8c-4abf-9bea-d044300cfd35",
   "metadata": {},
   "outputs": [
    {
     "data": {
      "text/html": [
       "<div>\n",
       "<style scoped>\n",
       "    .dataframe tbody tr th:only-of-type {\n",
       "        vertical-align: middle;\n",
       "    }\n",
       "\n",
       "    .dataframe tbody tr th {\n",
       "        vertical-align: top;\n",
       "    }\n",
       "\n",
       "    .dataframe thead th {\n",
       "        text-align: right;\n",
       "    }\n",
       "</style>\n",
       "<table border=\"1\" class=\"dataframe\">\n",
       "  <thead>\n",
       "    <tr style=\"text-align: right;\">\n",
       "      <th></th>\n",
       "      <th>cnt_courses_in_specialization</th>\n",
       "      <th>is_professional_certificate</th>\n",
       "      <th>is_gateway_certificate</th>\n",
       "      <th>learner_cnt_other_courses_active</th>\n",
       "      <th>learner_cnt_other_courses_paid_active</th>\n",
       "      <th>learner_cnt_other_courses_items_completed</th>\n",
       "      <th>learner_cnt_other_courses_paid_items_completed</th>\n",
       "      <th>learner_cnt_other_transactions_past</th>\n",
       "      <th>learner_other_revenue</th>\n",
       "      <th>subscription_period_order</th>\n",
       "      <th>...</th>\n",
       "      <th>East Asia</th>\n",
       "      <th>Eastern Europe</th>\n",
       "      <th>India</th>\n",
       "      <th>Middle East</th>\n",
       "      <th>Non-Brazil Latin America</th>\n",
       "      <th>Northern Europe</th>\n",
       "      <th>Russia and neighbors</th>\n",
       "      <th>Southeast Asia</th>\n",
       "      <th>Southern Europe</th>\n",
       "      <th>United States</th>\n",
       "    </tr>\n",
       "  </thead>\n",
       "  <tbody>\n",
       "    <tr>\n",
       "      <th>6647</th>\n",
       "      <td>5.0</td>\n",
       "      <td>0.0</td>\n",
       "      <td>0.0</td>\n",
       "      <td>0.0</td>\n",
       "      <td>0.0</td>\n",
       "      <td>0.0</td>\n",
       "      <td>0.0</td>\n",
       "      <td>0.0</td>\n",
       "      <td>0.0</td>\n",
       "      <td>1.0</td>\n",
       "      <td>...</td>\n",
       "      <td>0.0</td>\n",
       "      <td>0.0</td>\n",
       "      <td>0.0</td>\n",
       "      <td>1.0</td>\n",
       "      <td>0.0</td>\n",
       "      <td>0.0</td>\n",
       "      <td>0.0</td>\n",
       "      <td>0.0</td>\n",
       "      <td>0.0</td>\n",
       "      <td>0.0</td>\n",
       "    </tr>\n",
       "    <tr>\n",
       "      <th>8045</th>\n",
       "      <td>8.0</td>\n",
       "      <td>1.0</td>\n",
       "      <td>1.0</td>\n",
       "      <td>0.0</td>\n",
       "      <td>0.0</td>\n",
       "      <td>0.0</td>\n",
       "      <td>0.0</td>\n",
       "      <td>0.0</td>\n",
       "      <td>0.0</td>\n",
       "      <td>1.0</td>\n",
       "      <td>...</td>\n",
       "      <td>0.0</td>\n",
       "      <td>0.0</td>\n",
       "      <td>0.0</td>\n",
       "      <td>0.0</td>\n",
       "      <td>0.0</td>\n",
       "      <td>0.0</td>\n",
       "      <td>0.0</td>\n",
       "      <td>0.0</td>\n",
       "      <td>0.0</td>\n",
       "      <td>1.0</td>\n",
       "    </tr>\n",
       "    <tr>\n",
       "      <th>9687</th>\n",
       "      <td>5.0</td>\n",
       "      <td>1.0</td>\n",
       "      <td>1.0</td>\n",
       "      <td>0.0</td>\n",
       "      <td>0.0</td>\n",
       "      <td>0.0</td>\n",
       "      <td>0.0</td>\n",
       "      <td>0.0</td>\n",
       "      <td>0.0</td>\n",
       "      <td>1.0</td>\n",
       "      <td>...</td>\n",
       "      <td>0.0</td>\n",
       "      <td>0.0</td>\n",
       "      <td>0.0</td>\n",
       "      <td>0.0</td>\n",
       "      <td>0.0</td>\n",
       "      <td>0.0</td>\n",
       "      <td>0.0</td>\n",
       "      <td>0.0</td>\n",
       "      <td>0.0</td>\n",
       "      <td>1.0</td>\n",
       "    </tr>\n",
       "    <tr>\n",
       "      <th>6448</th>\n",
       "      <td>5.0</td>\n",
       "      <td>0.0</td>\n",
       "      <td>0.0</td>\n",
       "      <td>1.0</td>\n",
       "      <td>0.0</td>\n",
       "      <td>4.0</td>\n",
       "      <td>0.0</td>\n",
       "      <td>0.0</td>\n",
       "      <td>0.0</td>\n",
       "      <td>1.0</td>\n",
       "      <td>...</td>\n",
       "      <td>0.0</td>\n",
       "      <td>0.0</td>\n",
       "      <td>0.0</td>\n",
       "      <td>0.0</td>\n",
       "      <td>0.0</td>\n",
       "      <td>0.0</td>\n",
       "      <td>0.0</td>\n",
       "      <td>0.0</td>\n",
       "      <td>0.0</td>\n",
       "      <td>1.0</td>\n",
       "    </tr>\n",
       "    <tr>\n",
       "      <th>9406</th>\n",
       "      <td>6.0</td>\n",
       "      <td>1.0</td>\n",
       "      <td>0.0</td>\n",
       "      <td>9.0</td>\n",
       "      <td>2.5</td>\n",
       "      <td>225.0</td>\n",
       "      <td>27.5</td>\n",
       "      <td>2.5</td>\n",
       "      <td>122.5</td>\n",
       "      <td>2.0</td>\n",
       "      <td>...</td>\n",
       "      <td>0.0</td>\n",
       "      <td>0.0</td>\n",
       "      <td>0.0</td>\n",
       "      <td>0.0</td>\n",
       "      <td>0.0</td>\n",
       "      <td>0.0</td>\n",
       "      <td>0.0</td>\n",
       "      <td>0.0</td>\n",
       "      <td>1.0</td>\n",
       "      <td>0.0</td>\n",
       "    </tr>\n",
       "  </tbody>\n",
       "</table>\n",
       "<p>5 rows × 44 columns</p>\n",
       "</div>"
      ],
      "text/plain": [
       "      cnt_courses_in_specialization  is_professional_certificate  \\\n",
       "6647                            5.0                          0.0   \n",
       "8045                            8.0                          1.0   \n",
       "9687                            5.0                          1.0   \n",
       "6448                            5.0                          0.0   \n",
       "9406                            6.0                          1.0   \n",
       "\n",
       "      is_gateway_certificate  learner_cnt_other_courses_active  \\\n",
       "6647                     0.0                               0.0   \n",
       "8045                     1.0                               0.0   \n",
       "9687                     1.0                               0.0   \n",
       "6448                     0.0                               1.0   \n",
       "9406                     0.0                               9.0   \n",
       "\n",
       "      learner_cnt_other_courses_paid_active  \\\n",
       "6647                                    0.0   \n",
       "8045                                    0.0   \n",
       "9687                                    0.0   \n",
       "6448                                    0.0   \n",
       "9406                                    2.5   \n",
       "\n",
       "      learner_cnt_other_courses_items_completed  \\\n",
       "6647                                        0.0   \n",
       "8045                                        0.0   \n",
       "9687                                        0.0   \n",
       "6448                                        4.0   \n",
       "9406                                      225.0   \n",
       "\n",
       "      learner_cnt_other_courses_paid_items_completed  \\\n",
       "6647                                             0.0   \n",
       "8045                                             0.0   \n",
       "9687                                             0.0   \n",
       "6448                                             0.0   \n",
       "9406                                            27.5   \n",
       "\n",
       "      learner_cnt_other_transactions_past  learner_other_revenue  \\\n",
       "6647                                  0.0                    0.0   \n",
       "8045                                  0.0                    0.0   \n",
       "9687                                  0.0                    0.0   \n",
       "6448                                  0.0                    0.0   \n",
       "9406                                  2.5                  122.5   \n",
       "\n",
       "      subscription_period_order  ...  East Asia  Eastern Europe  India  \\\n",
       "6647                        1.0  ...        0.0             0.0    0.0   \n",
       "8045                        1.0  ...        0.0             0.0    0.0   \n",
       "9687                        1.0  ...        0.0             0.0    0.0   \n",
       "6448                        1.0  ...        0.0             0.0    0.0   \n",
       "9406                        2.0  ...        0.0             0.0    0.0   \n",
       "\n",
       "      Middle East  Non-Brazil Latin America  Northern Europe  \\\n",
       "6647          1.0                       0.0              0.0   \n",
       "8045          0.0                       0.0              0.0   \n",
       "9687          0.0                       0.0              0.0   \n",
       "6448          0.0                       0.0              0.0   \n",
       "9406          0.0                       0.0              0.0   \n",
       "\n",
       "      Russia and neighbors  Southeast Asia  Southern Europe  United States  \n",
       "6647                   0.0             0.0              0.0            0.0  \n",
       "8045                   0.0             0.0              0.0            1.0  \n",
       "9687                   0.0             0.0              0.0            1.0  \n",
       "6448                   0.0             0.0              0.0            1.0  \n",
       "9406                   0.0             0.0              1.0            0.0  \n",
       "\n",
       "[5 rows x 44 columns]"
      ]
     },
     "execution_count": 29,
     "metadata": {},
     "output_type": "execute_result"
    }
   ],
   "source": [
    "X_train.head()"
   ]
  },
  {
   "cell_type": "markdown",
   "id": "cfc8b2a8-3ee5-4eb6-88a3-619657a5349b",
   "metadata": {},
   "source": [
    "## Build Model"
   ]
  },
  {
   "cell_type": "code",
   "execution_count": 37,
   "id": "c0df2ba2-2daf-42bc-a73d-ccdc9c514d79",
   "metadata": {},
   "outputs": [
    {
     "data": {
      "text/html": [
       "<pre style=\"white-space:pre;overflow-x:auto;line-height:normal;font-family:Menlo,'DejaVu Sans Mono',consolas,'Courier New',monospace\"><span style=\"font-weight: bold\">Model: \"sequential_7\"</span>\n",
       "</pre>\n"
      ],
      "text/plain": [
       "\u001b[1mModel: \"sequential_7\"\u001b[0m\n"
      ]
     },
     "metadata": {},
     "output_type": "display_data"
    },
    {
     "data": {
      "text/html": [
       "<pre style=\"white-space:pre;overflow-x:auto;line-height:normal;font-family:Menlo,'DejaVu Sans Mono',consolas,'Courier New',monospace\">┏━━━━━━━━━━━━━━━━━━━━━━━━━━━━━━━━━━━━━━┳━━━━━━━━━━━━━━━━━━━━━━━━━━━━━┳━━━━━━━━━━━━━━━━━┓\n",
       "┃<span style=\"font-weight: bold\"> Layer (type)                         </span>┃<span style=\"font-weight: bold\"> Output Shape                </span>┃<span style=\"font-weight: bold\">         Param # </span>┃\n",
       "┡━━━━━━━━━━━━━━━━━━━━━━━━━━━━━━━━━━━━━━╇━━━━━━━━━━━━━━━━━━━━━━━━━━━━━╇━━━━━━━━━━━━━━━━━┩\n",
       "│ dense_39 (<span style=\"color: #0087ff; text-decoration-color: #0087ff\">Dense</span>)                     │ (<span style=\"color: #00d7ff; text-decoration-color: #00d7ff\">None</span>, <span style=\"color: #00af00; text-decoration-color: #00af00\">12288</span>)               │         <span style=\"color: #00af00; text-decoration-color: #00af00\">552,960</span> │\n",
       "├──────────────────────────────────────┼─────────────────────────────┼─────────────────┤\n",
       "│ dense_40 (<span style=\"color: #0087ff; text-decoration-color: #0087ff\">Dense</span>)                     │ (<span style=\"color: #00d7ff; text-decoration-color: #00d7ff\">None</span>, <span style=\"color: #00af00; text-decoration-color: #00af00\">20</span>)                  │         <span style=\"color: #00af00; text-decoration-color: #00af00\">245,780</span> │\n",
       "├──────────────────────────────────────┼─────────────────────────────┼─────────────────┤\n",
       "│ dense_41 (<span style=\"color: #0087ff; text-decoration-color: #0087ff\">Dense</span>)                     │ (<span style=\"color: #00d7ff; text-decoration-color: #00d7ff\">None</span>, <span style=\"color: #00af00; text-decoration-color: #00af00\">7</span>)                   │             <span style=\"color: #00af00; text-decoration-color: #00af00\">147</span> │\n",
       "├──────────────────────────────────────┼─────────────────────────────┼─────────────────┤\n",
       "│ dense_42 (<span style=\"color: #0087ff; text-decoration-color: #0087ff\">Dense</span>)                     │ (<span style=\"color: #00d7ff; text-decoration-color: #00d7ff\">None</span>, <span style=\"color: #00af00; text-decoration-color: #00af00\">5</span>)                   │              <span style=\"color: #00af00; text-decoration-color: #00af00\">40</span> │\n",
       "├──────────────────────────────────────┼─────────────────────────────┼─────────────────┤\n",
       "│ dense_43 (<span style=\"color: #0087ff; text-decoration-color: #0087ff\">Dense</span>)                     │ (<span style=\"color: #00d7ff; text-decoration-color: #00d7ff\">None</span>, <span style=\"color: #00af00; text-decoration-color: #00af00\">1</span>)                   │               <span style=\"color: #00af00; text-decoration-color: #00af00\">6</span> │\n",
       "└──────────────────────────────────────┴─────────────────────────────┴─────────────────┘\n",
       "</pre>\n"
      ],
      "text/plain": [
       "┏━━━━━━━━━━━━━━━━━━━━━━━━━━━━━━━━━━━━━━┳━━━━━━━━━━━━━━━━━━━━━━━━━━━━━┳━━━━━━━━━━━━━━━━━┓\n",
       "┃\u001b[1m \u001b[0m\u001b[1mLayer (type)                        \u001b[0m\u001b[1m \u001b[0m┃\u001b[1m \u001b[0m\u001b[1mOutput Shape               \u001b[0m\u001b[1m \u001b[0m┃\u001b[1m \u001b[0m\u001b[1m        Param #\u001b[0m\u001b[1m \u001b[0m┃\n",
       "┡━━━━━━━━━━━━━━━━━━━━━━━━━━━━━━━━━━━━━━╇━━━━━━━━━━━━━━━━━━━━━━━━━━━━━╇━━━━━━━━━━━━━━━━━┩\n",
       "│ dense_39 (\u001b[38;5;33mDense\u001b[0m)                     │ (\u001b[38;5;45mNone\u001b[0m, \u001b[38;5;34m12288\u001b[0m)               │         \u001b[38;5;34m552,960\u001b[0m │\n",
       "├──────────────────────────────────────┼─────────────────────────────┼─────────────────┤\n",
       "│ dense_40 (\u001b[38;5;33mDense\u001b[0m)                     │ (\u001b[38;5;45mNone\u001b[0m, \u001b[38;5;34m20\u001b[0m)                  │         \u001b[38;5;34m245,780\u001b[0m │\n",
       "├──────────────────────────────────────┼─────────────────────────────┼─────────────────┤\n",
       "│ dense_41 (\u001b[38;5;33mDense\u001b[0m)                     │ (\u001b[38;5;45mNone\u001b[0m, \u001b[38;5;34m7\u001b[0m)                   │             \u001b[38;5;34m147\u001b[0m │\n",
       "├──────────────────────────────────────┼─────────────────────────────┼─────────────────┤\n",
       "│ dense_42 (\u001b[38;5;33mDense\u001b[0m)                     │ (\u001b[38;5;45mNone\u001b[0m, \u001b[38;5;34m5\u001b[0m)                   │              \u001b[38;5;34m40\u001b[0m │\n",
       "├──────────────────────────────────────┼─────────────────────────────┼─────────────────┤\n",
       "│ dense_43 (\u001b[38;5;33mDense\u001b[0m)                     │ (\u001b[38;5;45mNone\u001b[0m, \u001b[38;5;34m1\u001b[0m)                   │               \u001b[38;5;34m6\u001b[0m │\n",
       "└──────────────────────────────────────┴─────────────────────────────┴─────────────────┘\n"
      ]
     },
     "metadata": {},
     "output_type": "display_data"
    },
    {
     "data": {
      "text/html": [
       "<pre style=\"white-space:pre;overflow-x:auto;line-height:normal;font-family:Menlo,'DejaVu Sans Mono',consolas,'Courier New',monospace\"><span style=\"font-weight: bold\"> Total params: </span><span style=\"color: #00af00; text-decoration-color: #00af00\">798,933</span> (3.05 MB)\n",
       "</pre>\n"
      ],
      "text/plain": [
       "\u001b[1m Total params: \u001b[0m\u001b[38;5;34m798,933\u001b[0m (3.05 MB)\n"
      ]
     },
     "metadata": {},
     "output_type": "display_data"
    },
    {
     "data": {
      "text/html": [
       "<pre style=\"white-space:pre;overflow-x:auto;line-height:normal;font-family:Menlo,'DejaVu Sans Mono',consolas,'Courier New',monospace\"><span style=\"font-weight: bold\"> Trainable params: </span><span style=\"color: #00af00; text-decoration-color: #00af00\">798,933</span> (3.05 MB)\n",
       "</pre>\n"
      ],
      "text/plain": [
       "\u001b[1m Trainable params: \u001b[0m\u001b[38;5;34m798,933\u001b[0m (3.05 MB)\n"
      ]
     },
     "metadata": {},
     "output_type": "display_data"
    },
    {
     "data": {
      "text/html": [
       "<pre style=\"white-space:pre;overflow-x:auto;line-height:normal;font-family:Menlo,'DejaVu Sans Mono',consolas,'Courier New',monospace\"><span style=\"font-weight: bold\"> Non-trainable params: </span><span style=\"color: #00af00; text-decoration-color: #00af00\">0</span> (0.00 B)\n",
       "</pre>\n"
      ],
      "text/plain": [
       "\u001b[1m Non-trainable params: \u001b[0m\u001b[38;5;34m0\u001b[0m (0.00 B)\n"
      ]
     },
     "metadata": {},
     "output_type": "display_data"
    }
   ],
   "source": [
    "model = keras.Sequential(\n",
    "    [\n",
    "        keras.Input(shape=X_train.shape[1:]),\n",
    "        keras.layers.Dense(12288, activation=\"relu\"),\n",
    "        # keras.layers.Dense(256, activation=\"relu\"),\n",
    "        keras.layers.Dense(20, activation=\"relu\"),\n",
    "        # keras.layers.Dropout(0.15),\n",
    "        keras.layers.Dense(7, activation=\"relu\"),\n",
    "        # keras.layers.Dropout(0.25),\n",
    "        keras.layers.Dense(5, activation=\"relu\"),\n",
    "        # keras.layers.Dropout(0.25),\n",
    "        keras.layers.Dense(1, activation=\"sigmoid\"),\n",
    "    ]\n",
    ")\n",
    "model.summary()"
   ]
  },
  {
   "cell_type": "code",
   "execution_count": 38,
   "id": "4b2a9cd7-5887-40d3-b594-60a6ebda5185",
   "metadata": {},
   "outputs": [
    {
     "name": "stdout",
     "output_type": "stream",
     "text": [
      "Epoch 1/50\n",
      "1000/1000 - 17s - 17ms/step - loss: 0.6804 - precision: 0.5800 - val_loss: 0.6501 - val_precision: 0.6021\n",
      "Epoch 2/50\n",
      "1000/1000 - 15s - 15ms/step - loss: 0.6478 - precision: 0.5991 - val_loss: 0.6358 - val_precision: 0.6549\n",
      "Epoch 3/50\n",
      "1000/1000 - 14s - 14ms/step - loss: 0.6393 - precision: 0.6163 - val_loss: 0.6312 - val_precision: 0.6243\n",
      "Epoch 4/50\n",
      "1000/1000 - 14s - 14ms/step - loss: 0.6318 - precision: 0.6257 - val_loss: 0.6222 - val_precision: 0.6579\n",
      "Epoch 5/50\n",
      "1000/1000 - 14s - 14ms/step - loss: 0.6279 - precision: 0.6422 - val_loss: 0.6255 - val_precision: 0.6181\n",
      "Epoch 6/50\n",
      "1000/1000 - 15s - 15ms/step - loss: 0.6367 - precision: 0.6262 - val_loss: 0.6178 - val_precision: 0.6721\n",
      "Epoch 7/50\n",
      "1000/1000 - 14s - 14ms/step - loss: 0.6277 - precision: 0.6277 - val_loss: 0.6169 - val_precision: 0.6579\n",
      "Epoch 8/50\n",
      "1000/1000 - 14s - 14ms/step - loss: 0.6243 - precision: 0.6305 - val_loss: 0.6095 - val_precision: 0.6565\n",
      "Epoch 9/50\n",
      "1000/1000 - 15s - 15ms/step - loss: 0.6223 - precision: 0.6403 - val_loss: 0.6169 - val_precision: 0.6967\n",
      "Epoch 10/50\n",
      "1000/1000 - 17s - 17ms/step - loss: 0.6171 - precision: 0.6386 - val_loss: 0.6156 - val_precision: 0.6389\n",
      "Epoch 11/50\n",
      "1000/1000 - 17s - 17ms/step - loss: 0.6182 - precision: 0.6570 - val_loss: 0.6298 - val_precision: 0.6249\n",
      "Epoch 12/50\n",
      "1000/1000 - 17s - 17ms/step - loss: 0.6179 - precision: 0.6520 - val_loss: 0.6209 - val_precision: 0.6055\n",
      "Epoch 13/50\n",
      "1000/1000 - 15s - 15ms/step - loss: 0.6147 - precision: 0.6350 - val_loss: 0.6016 - val_precision: 0.6475\n",
      "Epoch 14/50\n",
      "1000/1000 - 15s - 15ms/step - loss: 0.6195 - precision: 0.6320 - val_loss: 0.6294 - val_precision: 0.6030\n",
      "Epoch 15/50\n",
      "1000/1000 - 15s - 15ms/step - loss: 0.6167 - precision: 0.6538 - val_loss: 0.6040 - val_precision: 0.6516\n",
      "Epoch 16/50\n",
      "1000/1000 - 15s - 15ms/step - loss: 0.6247 - precision: 0.6317 - val_loss: 0.6087 - val_precision: 0.6371\n",
      "Epoch 17/50\n",
      "1000/1000 - 18s - 18ms/step - loss: 0.6167 - precision: 0.6335 - val_loss: 0.6150 - val_precision: 0.6411\n",
      "Epoch 18/50\n",
      "1000/1000 - 19s - 19ms/step - loss: 0.6136 - precision: 0.6390 - val_loss: 0.6378 - val_precision: 0.5888\n",
      "Epoch 19/50\n",
      "1000/1000 - 16s - 16ms/step - loss: 0.6150 - precision: 0.6389 - val_loss: 0.6049 - val_precision: 0.6825\n",
      "Epoch 20/50\n",
      "1000/1000 - 16s - 16ms/step - loss: 0.6161 - precision: 0.6371 - val_loss: 0.6423 - val_precision: 0.5825\n",
      "Epoch 21/50\n",
      "1000/1000 - 14s - 14ms/step - loss: 0.6159 - precision: 0.6499 - val_loss: 0.6103 - val_precision: 0.6948\n",
      "Epoch 22/50\n",
      "1000/1000 - 14s - 14ms/step - loss: 0.6189 - precision: 0.6274 - val_loss: 0.6111 - val_precision: 0.6534\n",
      "Epoch 23/50\n",
      "1000/1000 - 14s - 14ms/step - loss: 0.6124 - precision: 0.6502 - val_loss: 0.6021 - val_precision: 0.6736\n",
      "Epoch 24/50\n",
      "1000/1000 - 15s - 15ms/step - loss: 0.6085 - precision: 0.6628 - val_loss: 0.6093 - val_precision: 0.6805\n",
      "Epoch 25/50\n",
      "1000/1000 - 14s - 14ms/step - loss: 0.6062 - precision: 0.6494 - val_loss: 0.6190 - val_precision: 0.6569\n",
      "Epoch 26/50\n",
      "1000/1000 - 14s - 14ms/step - loss: 0.6117 - precision: 0.6457 - val_loss: 0.6154 - val_precision: 0.6379\n",
      "Epoch 27/50\n",
      "1000/1000 - 15s - 15ms/step - loss: 0.6122 - precision: 0.6481 - val_loss: 0.6094 - val_precision: 0.6894\n",
      "Epoch 28/50\n",
      "1000/1000 - 19s - 19ms/step - loss: 0.6093 - precision: 0.6465 - val_loss: 0.6055 - val_precision: 0.6960\n",
      "Epoch 29/50\n",
      "1000/1000 - 17s - 17ms/step - loss: 0.6153 - precision: 0.6501 - val_loss: 0.6137 - val_precision: 0.6500\n",
      "Epoch 30/50\n",
      "1000/1000 - 16s - 16ms/step - loss: 0.6182 - precision: 0.6345 - val_loss: 0.6078 - val_precision: 0.6553\n",
      "Epoch 31/50\n",
      "1000/1000 - 18s - 18ms/step - loss: 0.6060 - precision: 0.6516 - val_loss: 0.6126 - val_precision: 0.6441\n",
      "Epoch 32/50\n",
      "1000/1000 - 25s - 25ms/step - loss: 0.6052 - precision: 0.6574 - val_loss: 0.6156 - val_precision: 0.6534\n",
      "Epoch 33/50\n",
      "1000/1000 - 19s - 19ms/step - loss: 0.6040 - precision: 0.6554 - val_loss: 0.6151 - val_precision: 0.6529\n",
      "Epoch 34/50\n",
      "1000/1000 - 18s - 18ms/step - loss: 0.6095 - precision: 0.6577 - val_loss: 0.6216 - val_precision: 0.6211\n",
      "Epoch 35/50\n",
      "1000/1000 - 17s - 17ms/step - loss: 0.6093 - precision: 0.6584 - val_loss: 0.6107 - val_precision: 0.6242\n",
      "Epoch 36/50\n",
      "1000/1000 - 17s - 17ms/step - loss: 0.6041 - precision: 0.6549 - val_loss: 0.6213 - val_precision: 0.6502\n",
      "Epoch 37/50\n",
      "1000/1000 - 16s - 16ms/step - loss: 0.6068 - precision: 0.6531 - val_loss: 0.6018 - val_precision: 0.6428\n",
      "Epoch 38/50\n",
      "1000/1000 - 17s - 17ms/step - loss: 0.6072 - precision: 0.6475 - val_loss: 0.5987 - val_precision: 0.6638\n",
      "Epoch 39/50\n",
      "1000/1000 - 20s - 20ms/step - loss: 0.6050 - precision: 0.6617 - val_loss: 0.6016 - val_precision: 0.6811\n",
      "Epoch 40/50\n",
      "1000/1000 - 16s - 16ms/step - loss: 0.5987 - precision: 0.6562 - val_loss: 0.5966 - val_precision: 0.6820\n",
      "Epoch 41/50\n",
      "1000/1000 - 21s - 21ms/step - loss: 0.6012 - precision: 0.6500 - val_loss: 0.5929 - val_precision: 0.6840\n",
      "Epoch 42/50\n",
      "1000/1000 - 16s - 16ms/step - loss: 0.6101 - precision: 0.6479 - val_loss: 0.6051 - val_precision: 0.6396\n",
      "Epoch 43/50\n",
      "1000/1000 - 16s - 16ms/step - loss: 0.6038 - precision: 0.6436 - val_loss: 0.6158 - val_precision: 0.6699\n",
      "Epoch 44/50\n",
      "1000/1000 - 20s - 20ms/step - loss: 0.6013 - precision: 0.6594 - val_loss: 0.6007 - val_precision: 0.6706\n",
      "Epoch 45/50\n",
      "1000/1000 - 15s - 15ms/step - loss: 0.6008 - precision: 0.6509 - val_loss: 0.6085 - val_precision: 0.6316\n",
      "Epoch 46/50\n",
      "1000/1000 - 15s - 15ms/step - loss: 0.6051 - precision: 0.6650 - val_loss: 0.6024 - val_precision: 0.6709\n",
      "Epoch 47/50\n",
      "1000/1000 - 14s - 14ms/step - loss: 0.6018 - precision: 0.6702 - val_loss: 0.5990 - val_precision: 0.6749\n",
      "Epoch 48/50\n",
      "1000/1000 - 14s - 14ms/step - loss: 0.6008 - precision: 0.6594 - val_loss: 0.6101 - val_precision: 0.6207\n",
      "Epoch 49/50\n",
      "1000/1000 - 14s - 14ms/step - loss: 0.6006 - precision: 0.6481 - val_loss: 0.6045 - val_precision: 0.6545\n",
      "Epoch 50/50\n",
      "1000/1000 - 14s - 14ms/step - loss: 0.5969 - precision: 0.6663 - val_loss: 0.6190 - val_precision: 0.6443\n"
     ]
    }
   ],
   "source": [
    "metrics = [\n",
    "    # keras.metrics.FalseNegatives(name=\"fn\"),\n",
    "    # keras.metrics.FalsePositives(name=\"fp\"),\n",
    "    # keras.metrics.TrueNegatives(name=\"tn\"),\n",
    "    # keras.metrics.TruePositives(name=\"tp\"),\n",
    "    keras.metrics.Precision(name=\"precision\"),\n",
    "    # keras.metrics.Recall(name=\"recall\"),\n",
    "]\n",
    "\n",
    "model.compile(\n",
    "    optimizer=keras.optimizers.Adam(1e-3), loss=\"binary_crossentropy\", metrics=metrics\n",
    ")\n",
    "\n",
    "# callbacks = [keras.callbacks.ModelCheckpoint(\"fraud_model_at_epoch_{epoch}.keras\")]\n",
    "# class_weight = {0: weight_for_0, 1: weight_for_1}\n",
    "\n",
    "history = model.fit(\n",
    "    X_train,\n",
    "    y_train,\n",
    "    batch_size=8,\n",
    "    epochs=50,\n",
    "    verbose=2,\n",
    "    # callbacks=callbacks,\n",
    "    validation_data=(X_test, y_test),\n",
    "    # class_weight=class_weight,\n",
    ")"
   ]
  },
  {
   "cell_type": "code",
   "execution_count": 39,
   "id": "95a03125-174b-48f0-930d-d3f7ab0ebda7",
   "metadata": {},
   "outputs": [
    {
     "name": "stderr",
     "output_type": "stream",
     "text": [
      "C:\\Users\\Adak\\AppData\\Local\\Temp\\ipykernel_11100\\3135677205.py:21: UserWarning: No artists with labels found to put in legend.  Note that artists whose label start with an underscore are ignored when legend() is called with no argument.\n",
      "  plt.legend()\n"
     ]
    },
    {
     "data": {
      "image/png": "[encoded data removed]",
      "text/plain": [
       "<Figure size 640x480 with 1 Axes>"
      ]
     },
     "metadata": {},
     "output_type": "display_data"
    },
    {
     "name": "stdout",
     "output_type": "stream",
     "text": [
      "\n"
     ]
    },
    {
     "data": {
      "image/png": "[encoded data removed]",
      "text/plain": [
       "<Figure size 640x480 with 1 Axes>"
      ]
     },
     "metadata": {},
     "output_type": "display_data"
    }
   ],
   "source": [
    "#-----------------------------------------------------------\n",
    "# Retrieve a list of list results on training and test data\n",
    "# sets for each training epoch\n",
    "#-----------------------------------------------------------\n",
    "# rcl=history.history['recall']\n",
    "# val_rcl=history.history['val_recall']\n",
    "\n",
    "precision = history.history['precision']\n",
    "val_precision = history.history['val_precision']\n",
    "loss=history.history['loss']\n",
    "val_loss=history.history['val_loss']\n",
    "\n",
    "epochs=range(len(precision)) # Get number of epochs\n",
    "\n",
    "#------------------------------------------------\n",
    "# Plot training and validation accuracy per epoch\n",
    "#------------------------------------------------\n",
    "plt.plot(epochs, precision, 'r', \"Training Accuracy\")\n",
    "plt.plot(epochs, val_precision, 'b', \"Validation Accuracy\")\n",
    "plt.title('Training and validation accuracy')\n",
    "plt.legend()\n",
    "plt.show()\n",
    "print(\"\")\n",
    "\n",
    "#------------------------------------------------\n",
    "# Plot training and validation loss per epoch\n",
    "#------------------------------------------------\n",
    "plt.plot(epochs, loss, 'r', \"Training Loss\")\n",
    "plt.plot(epochs, val_loss, 'b', \"Validation Loss\")\n",
    "plt.show()"
   ]
  },
  {
   "cell_type": "code",
   "execution_count": null,
   "id": "610b9cca-e2eb-48d0-989e-75e8769d750e",
   "metadata": {},
   "outputs": [],
   "source": []
  }
 ],
 "metadata": {
  "kernelspec": {
   "display_name": "Python 3 (ipykernel)",
   "language": "python",
   "name": "python3"
  },
  "language_info": {
   "codemirror_mode": {
    "name": "ipython",
    "version": 3
   },
   "file_extension": ".py",
   "mimetype": "text/x-python",
   "name": "python",
   "nbconvert_exporter": "python",
   "pygments_lexer": "ipython3",
   "version": "3.10.0"
  }
 },
 "nbformat": 4,
 "nbformat_minor": 5
}
